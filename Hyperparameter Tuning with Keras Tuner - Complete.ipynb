{
 "cells": [
  {
   "cell_type": "markdown",
   "metadata": {
    "colab_type": "text",
    "id": "sp7D0ktn5eiG"
   },
   "source": [
    "## Hyperparameter Tuning with Keras Tuner\n",
    "\n",
    "---\n",
    "\n",
    "Created for Coursera guided project [Hyperparameter Tuning with Keras Tuner](https://www.coursera.org/learn/keras-tuner)\n",
    "\n",
    "---"
   ]
  },
  {
   "cell_type": "code",
   "execution_count": 1,
   "metadata": {},
   "outputs": [
    {
     "name": "stdout",
     "output_type": "stream",
     "text": [
      "Collecting keras-tuner\n",
      "  Downloading keras_tuner-1.0.4-py3-none-any.whl (97 kB)\n",
      "Requirement already satisfied: packaging in c:\\users\\atakan\\anaconda3\\envs\\my_rl_env\\lib\\site-packages (from keras-tuner) (21.0)\n",
      "Collecting kt-legacy\n",
      "  Downloading kt_legacy-1.0.4-py3-none-any.whl (9.6 kB)\n",
      "Requirement already satisfied: numpy in c:\\users\\atakan\\anaconda3\\envs\\my_rl_env\\lib\\site-packages (from keras-tuner) (1.19.5)\n",
      "Requirement already satisfied: ipython in c:\\users\\atakan\\anaconda3\\envs\\my_rl_env\\lib\\site-packages (from keras-tuner) (7.27.0)\n",
      "Requirement already satisfied: requests in c:\\users\\atakan\\anaconda3\\envs\\my_rl_env\\lib\\site-packages (from keras-tuner) (2.26.0)\n",
      "Requirement already satisfied: scipy in c:\\users\\atakan\\anaconda3\\envs\\my_rl_env\\lib\\site-packages (from keras-tuner) (1.7.1)\n",
      "Requirement already satisfied: tensorboard in c:\\users\\atakan\\anaconda3\\envs\\my_rl_env\\lib\\site-packages (from keras-tuner) (2.6.0)\n",
      "Requirement already satisfied: colorama in c:\\users\\atakan\\anaconda3\\envs\\my_rl_env\\lib\\site-packages (from ipython->keras-tuner) (0.4.4)\n",
      "Requirement already satisfied: jedi>=0.16 in c:\\users\\atakan\\anaconda3\\envs\\my_rl_env\\lib\\site-packages (from ipython->keras-tuner) (0.18.0)\n",
      "Requirement already satisfied: backcall in c:\\users\\atakan\\anaconda3\\envs\\my_rl_env\\lib\\site-packages (from ipython->keras-tuner) (0.2.0)\n",
      "Requirement already satisfied: setuptools>=18.5 in c:\\users\\atakan\\anaconda3\\envs\\my_rl_env\\lib\\site-packages (from ipython->keras-tuner) (52.0.0.post20210125)\n",
      "Requirement already satisfied: pickleshare in c:\\users\\atakan\\anaconda3\\envs\\my_rl_env\\lib\\site-packages (from ipython->keras-tuner) (0.7.5)\n",
      "Requirement already satisfied: prompt-toolkit!=3.0.0,!=3.0.1,<3.1.0,>=2.0.0 in c:\\users\\atakan\\anaconda3\\envs\\my_rl_env\\lib\\site-packages (from ipython->keras-tuner) (3.0.20)\n",
      "Requirement already satisfied: decorator in c:\\users\\atakan\\anaconda3\\envs\\my_rl_env\\lib\\site-packages (from ipython->keras-tuner) (5.0.9)\n",
      "Requirement already satisfied: matplotlib-inline in c:\\users\\atakan\\anaconda3\\envs\\my_rl_env\\lib\\site-packages (from ipython->keras-tuner) (0.1.2)\n",
      "Requirement already satisfied: traitlets>=4.2 in c:\\users\\atakan\\anaconda3\\envs\\my_rl_env\\lib\\site-packages (from ipython->keras-tuner) (5.1.0)\n",
      "Requirement already satisfied: pygments in c:\\users\\atakan\\anaconda3\\envs\\my_rl_env\\lib\\site-packages (from ipython->keras-tuner) (2.10.0)\n",
      "Requirement already satisfied: parso<0.9.0,>=0.8.0 in c:\\users\\atakan\\anaconda3\\envs\\my_rl_env\\lib\\site-packages (from jedi>=0.16->ipython->keras-tuner) (0.8.2)\n",
      "Requirement already satisfied: wcwidth in c:\\users\\atakan\\anaconda3\\envs\\my_rl_env\\lib\\site-packages (from prompt-toolkit!=3.0.0,!=3.0.1,<3.1.0,>=2.0.0->ipython->keras-tuner) (0.2.5)\n",
      "Requirement already satisfied: pyparsing>=2.0.2 in c:\\users\\atakan\\anaconda3\\envs\\my_rl_env\\lib\\site-packages (from packaging->keras-tuner) (2.4.7)\n",
      "Requirement already satisfied: urllib3<1.27,>=1.21.1 in c:\\users\\atakan\\anaconda3\\envs\\my_rl_env\\lib\\site-packages (from requests->keras-tuner) (1.26.6)\n",
      "Requirement already satisfied: idna<4,>=2.5 in c:\\users\\atakan\\anaconda3\\envs\\my_rl_env\\lib\\site-packages (from requests->keras-tuner) (3.2)\n",
      "Requirement already satisfied: certifi>=2017.4.17 in c:\\users\\atakan\\anaconda3\\envs\\my_rl_env\\lib\\site-packages (from requests->keras-tuner) (2021.5.30)\n",
      "Requirement already satisfied: charset-normalizer~=2.0.0 in c:\\users\\atakan\\anaconda3\\envs\\my_rl_env\\lib\\site-packages (from requests->keras-tuner) (2.0.4)\n",
      "Requirement already satisfied: tensorboard-plugin-wit>=1.6.0 in c:\\users\\atakan\\anaconda3\\envs\\my_rl_env\\lib\\site-packages (from tensorboard->keras-tuner) (1.8.0)\n",
      "Requirement already satisfied: markdown>=2.6.8 in c:\\users\\atakan\\anaconda3\\envs\\my_rl_env\\lib\\site-packages (from tensorboard->keras-tuner) (3.3.4)\n",
      "Requirement already satisfied: google-auth-oauthlib<0.5,>=0.4.1 in c:\\users\\atakan\\anaconda3\\envs\\my_rl_env\\lib\\site-packages (from tensorboard->keras-tuner) (0.4.6)\n",
      "Requirement already satisfied: absl-py>=0.4 in c:\\users\\atakan\\anaconda3\\envs\\my_rl_env\\lib\\site-packages (from tensorboard->keras-tuner) (0.13.0)\n",
      "Requirement already satisfied: google-auth<2,>=1.6.3 in c:\\users\\atakan\\anaconda3\\envs\\my_rl_env\\lib\\site-packages (from tensorboard->keras-tuner) (1.35.0)\n",
      "Requirement already satisfied: tensorboard-data-server<0.7.0,>=0.6.0 in c:\\users\\atakan\\anaconda3\\envs\\my_rl_env\\lib\\site-packages (from tensorboard->keras-tuner) (0.6.1)\n",
      "Requirement already satisfied: grpcio>=1.24.3 in c:\\users\\atakan\\anaconda3\\envs\\my_rl_env\\lib\\site-packages (from tensorboard->keras-tuner) (1.40.0)\n",
      "Requirement already satisfied: protobuf>=3.6.0 in c:\\users\\atakan\\anaconda3\\envs\\my_rl_env\\lib\\site-packages (from tensorboard->keras-tuner) (3.17.3)\n",
      "Requirement already satisfied: werkzeug>=0.11.15 in c:\\users\\atakan\\anaconda3\\envs\\my_rl_env\\lib\\site-packages (from tensorboard->keras-tuner) (2.0.1)\n",
      "Requirement already satisfied: wheel>=0.26 in c:\\users\\atakan\\anaconda3\\envs\\my_rl_env\\lib\\site-packages (from tensorboard->keras-tuner) (0.37.0)\n",
      "Requirement already satisfied: six in c:\\users\\atakan\\anaconda3\\envs\\my_rl_env\\lib\\site-packages (from absl-py>=0.4->tensorboard->keras-tuner) (1.16.0)\n",
      "Requirement already satisfied: cachetools<5.0,>=2.0.0 in c:\\users\\atakan\\anaconda3\\envs\\my_rl_env\\lib\\site-packages (from google-auth<2,>=1.6.3->tensorboard->keras-tuner) (4.2.2)\n",
      "Requirement already satisfied: pyasn1-modules>=0.2.1 in c:\\users\\atakan\\anaconda3\\envs\\my_rl_env\\lib\\site-packages (from google-auth<2,>=1.6.3->tensorboard->keras-tuner) (0.2.8)\n",
      "Requirement already satisfied: rsa<5,>=3.1.4 in c:\\users\\atakan\\anaconda3\\envs\\my_rl_env\\lib\\site-packages (from google-auth<2,>=1.6.3->tensorboard->keras-tuner) (4.7.2)\n",
      "Requirement already satisfied: requests-oauthlib>=0.7.0 in c:\\users\\atakan\\anaconda3\\envs\\my_rl_env\\lib\\site-packages (from google-auth-oauthlib<0.5,>=0.4.1->tensorboard->keras-tuner) (1.3.0)\n",
      "Requirement already satisfied: importlib-metadata in c:\\users\\atakan\\anaconda3\\envs\\my_rl_env\\lib\\site-packages (from markdown>=2.6.8->tensorboard->keras-tuner) (4.8.1)\n",
      "Requirement already satisfied: pyasn1<0.5.0,>=0.4.6 in c:\\users\\atakan\\anaconda3\\envs\\my_rl_env\\lib\\site-packages (from pyasn1-modules>=0.2.1->google-auth<2,>=1.6.3->tensorboard->keras-tuner) (0.4.8)\n",
      "Requirement already satisfied: oauthlib>=3.0.0 in c:\\users\\atakan\\anaconda3\\envs\\my_rl_env\\lib\\site-packages (from requests-oauthlib>=0.7.0->google-auth-oauthlib<0.5,>=0.4.1->tensorboard->keras-tuner) (3.1.1)\n",
      "Requirement already satisfied: zipp>=0.5 in c:\\users\\atakan\\anaconda3\\envs\\my_rl_env\\lib\\site-packages (from importlib-metadata->markdown>=2.6.8->tensorboard->keras-tuner) (3.5.0)\n",
      "Requirement already satisfied: typing-extensions>=3.6.4 in c:\\users\\atakan\\anaconda3\\envs\\my_rl_env\\lib\\site-packages (from importlib-metadata->markdown>=2.6.8->tensorboard->keras-tuner) (3.10.0.0)\n",
      "Installing collected packages: kt-legacy, keras-tuner\n",
      "Successfully installed keras-tuner-1.0.4 kt-legacy-1.0.4\n"
     ]
    }
   ],
   "source": [
    "!pip install keras-tuner"
   ]
  },
  {
   "cell_type": "code",
   "execution_count": 2,
   "metadata": {
    "colab": {
     "base_uri": "https://localhost:8080/",
     "height": 34
    },
    "colab_type": "code",
    "id": "yKFjWz6e5eiH",
    "outputId": "79c40ded-2cbb-4fd1-e2ad-88c1629bf988"
   },
   "outputs": [
    {
     "name": "stdout",
     "output_type": "stream",
     "text": [
      "Using TensorFlow version 2.6.0\n"
     ]
    },
    {
     "name": "stderr",
     "output_type": "stream",
     "text": [
      "C:\\Users\\Atakan\\anaconda3\\envs\\my_rl_env\\lib\\site-packages\\ipykernel_launcher.py:6: DeprecationWarning: `import kerastuner` is deprecated, please use `import keras_tuner`.\n",
      "  \n"
     ]
    }
   ],
   "source": [
    "%matplotlib inline\n",
    "\n",
    "import numpy as np\n",
    "import matplotlib.pyplot as plt\n",
    "import tensorflow as tf\n",
    "import kerastuner\n",
    "    \n",
    "print('Using TensorFlow version', tf.__version__)"
   ]
  },
  {
   "cell_type": "code",
   "execution_count": 3,
   "metadata": {},
   "outputs": [
    {
     "name": "stdout",
     "output_type": "stream",
     "text": [
      "Downloading data from https://storage.googleapis.com/tensorflow/tf-keras-datasets/train-labels-idx1-ubyte.gz\n",
      "32768/29515 [=================================] - 0s 3us/step\n",
      "40960/29515 [=========================================] - 0s 2us/step\n",
      "Downloading data from https://storage.googleapis.com/tensorflow/tf-keras-datasets/train-images-idx3-ubyte.gz\n",
      "26427392/26421880 [==============================] - 5s 0us/step\n",
      "26435584/26421880 [==============================] - 5s 0us/step\n",
      "Downloading data from https://storage.googleapis.com/tensorflow/tf-keras-datasets/t10k-labels-idx1-ubyte.gz\n",
      "16384/5148 [===============================================================================================] - 0s 0s/step\n",
      "Downloading data from https://storage.googleapis.com/tensorflow/tf-keras-datasets/t10k-images-idx3-ubyte.gz\n",
      "4423680/4422102 [==============================] - 1s 0us/step\n",
      "4431872/4422102 [==============================] - 1s 0us/step\n"
     ]
    }
   ],
   "source": [
    "(x_train, y_train), (x_test, y_test) = tf.keras.datasets.fashion_mnist.load_data()"
   ]
  },
  {
   "cell_type": "code",
   "execution_count": 4,
   "metadata": {},
   "outputs": [
    {
     "data": {
      "image/png": "[encoded data removed]",
      "text/plain": [
       "<Figure size 432x288 with 1 Axes>"
      ]
     },
     "metadata": {
      "needs_background": "light"
     },
     "output_type": "display_data"
    }
   ],
   "source": [
    "plt.imshow(x_train[0], cmap='binary')\n",
    "plt.xlabel(y_train[0])\n",
    "plt.show()"
   ]
  },
  {
   "cell_type": "code",
   "execution_count": 5,
   "metadata": {},
   "outputs": [
    {
     "data": {
      "text/plain": [
       "(60000, 28, 28)"
      ]
     },
     "execution_count": 5,
     "metadata": {},
     "output_type": "execute_result"
    }
   ],
   "source": [
    "x_train.shape"
   ]
  },
  {
   "cell_type": "code",
   "execution_count": 28,
   "metadata": {
    "colab": {
     "base_uri": "https://localhost:8080/",
     "height": 286
    },
    "colab_type": "code",
    "id": "OpewXxPQ5eji",
    "outputId": "b0c61e65-fb96-4f58-aa5b-94dfaadd0b3c"
   },
   "outputs": [],
   "source": [
    "def create_model(hp):\n",
    "    if hp:\n",
    "        dropout_rate = hp.Float('dropout_rate', min_value=0.1, max_value=0.5)\n",
    "        num_units = hp.Choice('num_units', values=[8, 16, 32])\n",
    "        learning_rate = hp.Float('learning_rate', min_value=0.0001, max_value=0.1)\n",
    "        num_hidden_layers = hp.Choice('num_hidden_layers', values=[1, 2, 3])\n",
    "    else:\n",
    "        dropout_rate = 0.1\n",
    "        num_units = 8\n",
    "        learning_rate = 1e-4\n",
    "        num_hidden_layers = 1\n",
    "    \n",
    "    model = tf.keras.models.Sequential()\n",
    "    model.add(tf.keras.layers.Flatten(input_shape=(28, 28)))\n",
    "    model.add(tf.keras.layers.Lambda(lambda x: x/255.))\n",
    "    \n",
    "    for _ in range(0, num_hidden_layers):\n",
    "        model.add(tf.keras.layers.Dense(num_units, activation='relu'))\n",
    "        model.add(tf.keras.layers.Dropout(dropout_rate))\n",
    "    \n",
    "    model.add(tf.keras.layers.Dense(10, activation='softmax'))\n",
    "\n",
    "    model.compile(\n",
    "        loss='sparse_categorical_crossentropy',\n",
    "        optimizer=tf.keras.optimizers.Adam(float(learning_rate)),\n",
    "        metrics=['accuracy']\n",
    "    )\n",
    "    \n",
    "    return model"
   ]
  },
  {
   "cell_type": "code",
   "execution_count": 29,
   "metadata": {},
   "outputs": [
    {
     "name": "stdout",
     "output_type": "stream",
     "text": [
      "Model: \"sequential_2\"\n",
      "_________________________________________________________________\n",
      "Layer (type)                 Output Shape              Param #   \n",
      "=================================================================\n",
      "flatten_2 (Flatten)          (None, 784)               0         \n",
      "_________________________________________________________________\n",
      "lambda_2 (Lambda)            (None, 784)               0         \n",
      "_________________________________________________________________\n",
      "dense_4 (Dense)              (None, 8)                 6280      \n",
      "_________________________________________________________________\n",
      "dropout_2 (Dropout)          (None, 8)                 0         \n",
      "_________________________________________________________________\n",
      "dense_5 (Dense)              (None, 10)                90        \n",
      "=================================================================\n",
      "Total params: 6,370\n",
      "Trainable params: 6,370\n",
      "Non-trainable params: 0\n",
      "_________________________________________________________________\n"
     ]
    }
   ],
   "source": [
    "create_model(None).summary()"
   ]
  },
  {
   "cell_type": "code",
   "execution_count": 30,
   "metadata": {},
   "outputs": [],
   "source": [
    "class CustomTuner(kerastuner.tuners.BayesianOptimization):\n",
    "    def run_trial(self, trial, *args, **kwargs):\n",
    "        kwargs['batch_size'] = trial.hyperparameters.Int('batch_size', 32, 128, step=32)\n",
    "        super(CustomTuner, self).run_trial(trial, *args, **kwargs)"
   ]
  },
  {
   "cell_type": "code",
   "execution_count": 31,
   "metadata": {},
   "outputs": [],
   "source": [
    "tuner = CustomTuner(\n",
    "    create_model,\n",
    "    objective='val_accuracy',\n",
    "    max_trials=20,\n",
    "    directory='logs',\n",
    "    project_name='fashion_mnist',\n",
    "    overwrite=True,\n",
    ")"
   ]
  },
  {
   "cell_type": "code",
   "execution_count": 32,
   "metadata": {},
   "outputs": [
    {
     "name": "stdout",
     "output_type": "stream",
     "text": [
      "Search space summary\n",
      "Default search space size: 4\n",
      "dropout_rate (Float)\n",
      "{'default': 0.1, 'conditions': [], 'min_value': 0.1, 'max_value': 0.5, 'step': None, 'sampling': None}\n",
      "num_units (Choice)\n",
      "{'default': 8, 'conditions': [], 'values': [8, 16, 32], 'ordered': True}\n",
      "learning_rate (Float)\n",
      "{'default': 0.0001, 'conditions': [], 'min_value': 0.0001, 'max_value': 0.1, 'step': None, 'sampling': None}\n",
      "num_hidden_layers (Choice)\n",
      "{'default': 1, 'conditions': [], 'values': [1, 2, 3], 'ordered': True}\n"
     ]
    }
   ],
   "source": [
    "tuner.search_space_summary()"
   ]
  },
  {
   "cell_type": "code",
   "execution_count": 33,
   "metadata": {
    "colab": {
     "base_uri": "https://localhost:8080/",
     "height": 454
    },
    "colab_type": "code",
    "id": "bzBqnWQ-5ejw",
    "outputId": "499ededc-0e2e-4f06-d59a-15350da7da31"
   },
   "outputs": [
    {
     "name": "stdout",
     "output_type": "stream",
     "text": [
      "INFO:tensorflow:Oracle triggered exit\n"
     ]
    }
   ],
   "source": [
    "tuner.search(\n",
    "    x_train, y_train,\n",
    "    validation_data=(x_test, y_test),\n",
    "    epochs=5, verbose=False,\n",
    "    callbacks=[\n",
    "        tf.keras.callbacks.EarlyStopping(monitor='val_accuracy', patience=2)\n",
    "    ]\n",
    ")"
   ]
  },
  {
   "cell_type": "code",
   "execution_count": 35,
   "metadata": {},
   "outputs": [
    {
     "name": "stdout",
     "output_type": "stream",
     "text": [
      "Results summary\n",
      "Results in logs\\fashion_mnist\n",
      "Showing 1 best trials\n",
      "Objective(name='val_accuracy', direction='max')\n",
      "Trial summary\n",
      "Hyperparameters:\n",
      "dropout_rate: 0.5\n",
      "num_units: 32\n",
      "learning_rate: 0.0001\n",
      "num_hidden_layers: 1\n",
      "batch_size: 32\n",
      "Score: 0.8197000026702881\n"
     ]
    }
   ],
   "source": [
    "tuner.results_summary(1)"
   ]
  },
  {
   "cell_type": "code",
   "execution_count": 36,
   "metadata": {},
   "outputs": [
    {
     "name": "stdout",
     "output_type": "stream",
     "text": [
      "Model: \"sequential\"\n",
      "_________________________________________________________________\n",
      "Layer (type)                 Output Shape              Param #   \n",
      "=================================================================\n",
      "flatten (Flatten)            (None, 784)               0         \n",
      "_________________________________________________________________\n",
      "lambda (Lambda)              (None, 784)               0         \n",
      "_________________________________________________________________\n",
      "dense (Dense)                (None, 32)                25120     \n",
      "_________________________________________________________________\n",
      "dropout (Dropout)            (None, 32)                0         \n",
      "_________________________________________________________________\n",
      "dense_1 (Dense)              (None, 10)                330       \n",
      "=================================================================\n",
      "Total params: 25,450\n",
      "Trainable params: 25,450\n",
      "Non-trainable params: 0\n",
      "_________________________________________________________________\n"
     ]
    }
   ],
   "source": [
    "model = tuner.get_best_models(num_models=1)[0]\n",
    "\n",
    "model.summary()"
   ]
  },
  {
   "cell_type": "code",
   "execution_count": 37,
   "metadata": {},
   "outputs": [
    {
     "name": "stdout",
     "output_type": "stream",
     "text": [
      "Epoch 1/20\n",
      "1875/1875 - 1s - loss: 0.6666 - accuracy: 0.7657 - val_loss: 0.5035 - val_accuracy: 0.8197\n",
      "Epoch 2/20\n",
      "1875/1875 - 1s - loss: 0.6425 - accuracy: 0.7745 - val_loss: 0.4912 - val_accuracy: 0.8293\n",
      "Epoch 3/20\n",
      "1875/1875 - 1s - loss: 0.6303 - accuracy: 0.7793 - val_loss: 0.4826 - val_accuracy: 0.8307\n",
      "Epoch 4/20\n",
      "1875/1875 - 1s - loss: 0.6171 - accuracy: 0.7831 - val_loss: 0.4768 - val_accuracy: 0.8321\n",
      "Epoch 5/20\n",
      "1875/1875 - 1s - loss: 0.6044 - accuracy: 0.7873 - val_loss: 0.4695 - val_accuracy: 0.8308\n",
      "Epoch 6/20\n",
      "1875/1875 - 1s - loss: 0.5983 - accuracy: 0.7895 - val_loss: 0.4622 - val_accuracy: 0.8355\n",
      "Epoch 7/20\n",
      "1875/1875 - 1s - loss: 0.5900 - accuracy: 0.7937 - val_loss: 0.4581 - val_accuracy: 0.8374\n",
      "Epoch 8/20\n",
      "1875/1875 - 1s - loss: 0.5830 - accuracy: 0.7951 - val_loss: 0.4549 - val_accuracy: 0.8393\n",
      "Epoch 9/20\n",
      "1875/1875 - 1s - loss: 0.5803 - accuracy: 0.7958 - val_loss: 0.4483 - val_accuracy: 0.8406\n",
      "Epoch 10/20\n",
      "1875/1875 - 1s - loss: 0.5708 - accuracy: 0.7994 - val_loss: 0.4473 - val_accuracy: 0.8424\n",
      "Epoch 11/20\n",
      "1875/1875 - 1s - loss: 0.5630 - accuracy: 0.8022 - val_loss: 0.4429 - val_accuracy: 0.8421\n",
      "Epoch 12/20\n",
      "1875/1875 - 1s - loss: 0.5606 - accuracy: 0.8015 - val_loss: 0.4401 - val_accuracy: 0.8429\n",
      "Epoch 13/20\n",
      "1875/1875 - 1s - loss: 0.5590 - accuracy: 0.8035 - val_loss: 0.4357 - val_accuracy: 0.8454\n",
      "Epoch 14/20\n",
      "1875/1875 - 1s - loss: 0.5513 - accuracy: 0.8049 - val_loss: 0.4353 - val_accuracy: 0.8458\n",
      "Epoch 15/20\n",
      "1875/1875 - 1s - loss: 0.5500 - accuracy: 0.8040 - val_loss: 0.4322 - val_accuracy: 0.8442\n",
      "Epoch 16/20\n",
      "1875/1875 - 1s - loss: 0.5477 - accuracy: 0.8072 - val_loss: 0.4316 - val_accuracy: 0.8460\n",
      "Epoch 17/20\n",
      "1875/1875 - 1s - loss: 0.5400 - accuracy: 0.8078 - val_loss: 0.4282 - val_accuracy: 0.8469\n",
      "Epoch 18/20\n",
      "1875/1875 - 1s - loss: 0.5401 - accuracy: 0.8098 - val_loss: 0.4275 - val_accuracy: 0.8467\n",
      "Epoch 19/20\n",
      "1875/1875 - 1s - loss: 0.5358 - accuracy: 0.8083 - val_loss: 0.4242 - val_accuracy: 0.8487\n",
      "Epoch 20/20\n",
      "1875/1875 - 1s - loss: 0.5337 - accuracy: 0.8105 - val_loss: 0.4255 - val_accuracy: 0.8486\n"
     ]
    }
   ],
   "source": [
    "h = model.fit(\n",
    "    x_train, y_train,\n",
    "    validation_data=(x_test, y_test),\n",
    "    epochs=20, verbose=2,\n",
    "    batch_size=32,\n",
    "    callbacks=[\n",
    "        tf.keras.callbacks.EarlyStopping(monitor='val_accuracy', patience=3)\n",
    "    ]\n",
    ")"
   ]
  },
  {
   "cell_type": "code",
   "execution_count": 38,
   "metadata": {},
   "outputs": [
    {
     "name": "stdout",
     "output_type": "stream",
     "text": [
      "313/313 [==============================] - 0s 523us/step - loss: 0.4255 - accuracy: 0.8486\n"
     ]
    },
    {
     "data": {
      "text/plain": [
       "[0.42548730969429016, 0.8485999703407288]"
      ]
     },
     "execution_count": 38,
     "metadata": {},
     "output_type": "execute_result"
    }
   ],
   "source": [
    "model.evaluate(x_test, y_test)"
   ]
  },
  {
   "cell_type": "code",
   "execution_count": null,
   "metadata": {},
   "outputs": [],
   "source": []
  }
 ],
 "metadata": {
  "accelerator": "GPU",
  "colab": {
   "collapsed_sections": [],
   "name": "Tweet Sentiment Classification: Complete.ipynb",
   "provenance": []
  },
  "kernelspec": {
   "display_name": "Python 3 (ipykernel)",
   "language": "python",
   "name": "python3"
  },
  "language_info": {
   "codemirror_mode": {
    "name": "ipython",
    "version": 3
   },
   "file_extension": ".py",
   "mimetype": "text/x-python",
   "name": "python",
   "nbconvert_exporter": "python",
   "pygments_lexer": "ipython3",
   "version": "3.7.11"
  }
 },
 "nbformat": 4,
 "nbformat_minor": 1
}
